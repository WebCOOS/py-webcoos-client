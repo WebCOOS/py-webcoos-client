{
 "cells": [
  {
   "cell_type": "code",
   "execution_count": null,
   "metadata": {},
   "outputs": [],
   "source": [
    "import pywebcoos"
   ]
  },
  {
   "cell_type": "code",
   "execution_count": null,
   "metadata": {},
   "outputs": [],
   "source": [
    "# Call the API #\n",
    "api = pywebcoos.API(token='') # Insert your token here #"
   ]
  },
  {
   "cell_type": "code",
   "execution_count": null,
   "metadata": {},
   "outputs": [],
   "source": [
    "# View a list of WebCOOS cameras #\n",
    "cams = api.get_cameras()\n",
    "cams"
   ]
  },
  {
   "cell_type": "code",
   "execution_count": null,
   "metadata": {},
   "outputs": [],
   "source": [
    "# View the available products at a camera #\n",
    "prods = api.get_products('Charleston Harbor, SC')\n",
    "prods"
   ]
  },
  {
   "cell_type": "code",
   "execution_count": null,
   "metadata": {},
   "outputs": [],
   "source": [
    "# View the data inventory for a product at a camera #\n",
    "inv = api.get_inventory('Charleston Harbor, SC','video-archive')\n",
    "inv"
   ]
  },
  {
   "cell_type": "code",
   "execution_count": null,
   "metadata": {},
   "outputs": [],
   "source": [
    "# Download some video from the camera to the current directory #\n",
    "fnames = api.download('Charleston Harbor, SC',\n",
    "                     'video-archive',\n",
    "                     '202401011000',\n",
    "                     '202401011030',\n",
    "                     interval=1,\n",
    "                     save_dir='.')"
   ]
  },
  {
   "cell_type": "code",
   "execution_count": null,
   "metadata": {},
   "outputs": [],
   "source": [
    "# Download some images from the camera at a specified time interval to the current directory #\n",
    "fnames = api.download('Charleston Harbor, SC',\n",
    "                     'one-minute-stills',\n",
    "                     '202401011000',\n",
    "                     '202401011030',\n",
    "                     interval=5,\n",
    "                     save_dir='.')"
   ]
  }
 ],
 "metadata": {
  "kernelspec": {
   "display_name": "Python 3",
   "language": "python",
   "name": "python3"
  },
  "language_info": {
   "codemirror_mode": {
    "name": "ipython",
    "version": 3
   },
   "file_extension": ".py",
   "mimetype": "text/x-python",
   "name": "python",
   "nbconvert_exporter": "python",
   "pygments_lexer": "ipython3",
   "version": "3.7.6"
  }
 },
 "nbformat": 4,
 "nbformat_minor": 4
}
